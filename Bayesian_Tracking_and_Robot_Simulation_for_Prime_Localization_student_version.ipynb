{
  "cells": [
    {
      "cell_type": "markdown",
      "metadata": {
        "id": "view-in-github",
        "colab_type": "text"
      },
      "source": [
        "<a href=\"https://colab.research.google.com/github/JaehahShin/ROB-310-Project---Bayesian-Tracking-WIth-Prime-Number/blob/main/Bayesian_Tracking_and_Robot_Simulation_for_Prime_Localization_student_version.ipynb\" target=\"_parent\"><img src=\"https://colab.research.google.com/assets/colab-badge.svg\" alt=\"Open In Colab\"/></a>"
      ]
    },
    {
      "cell_type": "markdown",
      "source": [
        "Created By Jaehah Shin"
      ],
      "metadata": {
        "id": "P9dreyISRqjL"
      }
    },
    {
      "cell_type": "markdown",
      "source": [
        "# Motivation of This Assignments\n",
        "##### Prime numbers are inherently unpredictable, a characteristic that makes them crucial in modern cryptography. As robotics continues to evolve and integrate with critical and sensitive systems, cryptography plays an increasingly important role in ensuring security.\n",
        "---"
      ],
      "metadata": {
        "id": "a2iiioB7WRvs"
      }
    },
    {
      "cell_type": "markdown",
      "source": [
        "![image.jpg](data:image/jpeg;base64,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)"
      ],
      "metadata": {
        "id": "TgNzbZpxWWHE"
      }
    },
    {
      "cell_type": "markdown",
      "source": [
        "---\n",
        "## Scenario\n",
        "A robot designed to transport humans to their desired locations is programmed to deliver its passenger to a point **50 meters beyond the last station**. This is because the **best bakery in the world** is located at that spot! 🍞  \n",
        "\n",
        "To achieve this, we will use **Bayesian localization** to enable the robot to accurately:  \n",
        "1. Determine its position along the path.  \n",
        "2. Identify the last station.  \n",
        "3. Ensure it stops precisely **50 meters** beyond the final station.  \n",
        "\n",
        "---\n",
        "\n",
        "## Assignment Setup\n",
        "\n",
        "We are working with a series of **21 stations**, each identified by a unique address. The addresses are represented as follows:  \n",
        "`addresses = [\n",
        "    1, 2, 3, 4, 5, 6, 7, 8, 9, 10,\n",
        "    11, 12, 13, 14, 15, 16, 17, 18, 19, 20, 21\n",
        "]\n",
        "`  \n",
        "For simplicity, assume the robot always starts at `addresses[0] = 1` and follows the path sequentially.  \n",
        "\n",
        "Each station is associated with a randomly generated number. There are two types:\n",
        "- **Prime numbers** are represented as **1** and displayed in **green**.  \n",
        "- **Composite numbers** are represented as **0** and displayed in **blue**.  \n",
        "\n",
        "One important note:  \n",
        "- The **last station** is always programmed to be a prime number for simplicity.  \n",
        "\n",
        "---\n",
        "\n",
        "## Goal of the Assignment\n",
        "\n",
        "The goal is to determine if a robot can successfully:  \n",
        "1. **Localize** its position along the path, identifying where the robot is at each step -> In Question 1\n",
        "2. **Stop** 50 meters after passing the **last station**.  -> In Question 2"
      ],
      "metadata": {
        "id": "0XfoxjICWZ9F"
      }
    },
    {
      "cell_type": "markdown",
      "metadata": {
        "id": "upxK0qP-ulOx"
      },
      "source": [
        "# Question 1: Prime Number with Bayesian Tracking of the Number of Primes in a Range\n"
      ]
    },
    {
      "cell_type": "code",
      "execution_count": null,
      "metadata": {
        "id": "P9Vl1GcjulOy"
      },
      "outputs": [],
      "source": [
        "# This is a library of functions students can use to do this project.\n",
        "# Make sure students have this installed on their computer. (or use google colab so that they don't need to have it on their local computer)\n",
        "import matplotlib\n",
        "from matplotlib import pyplot as plt\n",
        "from matplotlib.animation import FuncAnimation\n",
        "from IPython.display import HTML\n",
        "import scipy as sp\n",
        "import numpy as np\n",
        "from scipy.interpolate import interp1d\n",
        "import random\n",
        "import math\n",
        "import sympy"
      ]
    },
    {
      "cell_type": "markdown",
      "metadata": {
        "id": "gh_XJOOVulO0"
      },
      "source": [
        "## Probalibistic Models"
      ]
    },
    {
      "cell_type": "code",
      "execution_count": null,
      "metadata": {
        "colab": {
          "base_uri": "https://localhost:8080/"
        },
        "id": "TH8tdqzrulO0",
        "outputId": "8771c698-72a3-42e6-de9b-4f49a0ee8a19"
      },
      "outputs": [
        {
          "output_type": "stream",
          "name": "stdout",
          "text": [
            "Random Numbers: [9, 10, 8, 5, 8, 9, 2, 2, 8, 2, 4, 11, 9, 3, 9, 4, 4, 5, 2, 2, 3]\n",
            "Colors: [0, 0, 0, 1, 0, 0, 1, 1, 0, 1, 0, 1, 0, 1, 0, 0, 0, 1, 1, 1, 1]\n"
          ]
        }
      ],
      "source": [
        "# This is initial colour of topological map of what robot can go.\n",
        "# As shown below, we use prime and composite numbers to represent the colours.\n",
        "# This part is given as this is not the main part of the project.\n",
        "'''NOTE: NOTHING TO DO HERE (READ and UNDERSTAND)'''\n",
        "from sympy import *\n",
        "\n",
        "NOTHING = -1\n",
        "BLUE = 0 # non-prime\n",
        "GREEN = 1 # prime\n",
        "\n",
        "code2color = {-1: 'nothing', 0: 'blue', 1: 'green'}\n",
        "\n",
        "addresses = [1, 2, 3, 4, 5, 6, 7, 8, 9, 10, 11,12,13,14,15,16,17,18,19,20,21]\n",
        "\n",
        "# Generate a list of random numbers between 2 and 11\n",
        "random_number = [random.randint(2, 11) for _ in range(20)]\n",
        "\n",
        "# Ensure the last element is a prime number\n",
        "while True:\n",
        "    last_num = random.randint(2, 11)\n",
        "    if isprime(last_num):\n",
        "        random_number.append(last_num)\n",
        "        break\n",
        "print(\"Random Numbers:\", random_number)\n",
        "\n",
        "# Generate the initial colors list with default colors (BLUE)\n",
        "colors = [BLUE if not isprime(num) else GREEN for num in random_number]\n",
        "\n",
        "print(\"Colors:\", colors)\n",
        "\n"
      ]
    },
    {
      "cell_type": "markdown",
      "source": [
        "### 1.a): Implement following dynamic_pred functions"
      ],
      "metadata": {
        "id": "fVLh3Anlbvc2"
      }
    },
    {
      "cell_type": "code",
      "execution_count": null,
      "metadata": {
        "id": "d3z8qrIzulO0"
      },
      "outputs": [],
      "source": [
        "'''TODO: Implement the dynamic_pred functions'''\n",
        "def dynamic_pred(x_k, u_k):\n",
        "    '''dynamics probability of P(x_k_1 | x_k, u_k) return in form of a state vector'''\n",
        "    # x_k_1 is an address\n",
        "    # x_k is an address\n",
        "    # u_k is -1, 0, 1\n",
        "    '''\n",
        "    xk+1 |uk =  -1      0        +1\n",
        "    X - χ       0.85    0.05    0.05\n",
        "    X           0.10    0.90    0.10\n",
        "    X + χ       0.05    0.05    0.85\n",
        "    '''"
      ]
    },
    {
      "cell_type": "code",
      "execution_count": null,
      "metadata": {
        "id": "09PPleuCulO1",
        "colab": {
          "base_uri": "https://localhost:8080/"
        },
        "outputId": "3d3d7d1e-e418-49f4-c217-d6d6d1865803"
      },
      "outputs": [
        {
          "output_type": "stream",
          "name": "stdout",
          "text": [
            "Result: 9 is composite with confidence 0.19370\n",
            "Result: 10 is composite with confidence 0.10457\n",
            "Result: 8 is composite with confidence 0.10136\n",
            "Result: 5 is probably prime with confidence 0.93750\n",
            "Result: 8 is composite with confidence 0.15155\n",
            "Result: 9 is composite with confidence 0.18966\n",
            "Result: 2 is probably prime with confidence 0.96194\n",
            "Result: 2 is probably prime with confidence 0.92053\n",
            "Result: 8 is composite with confidence 0.18992\n",
            "Result: 2 is probably prime with confidence 0.98056\n",
            "Result: 4 is composite with confidence 0.10143\n",
            "Result: 11 is probably prime with confidence 0.93750\n",
            "Result: 9 is composite with confidence 0.15967\n",
            "Result: 3 is probably prime with confidence 0.97990\n",
            "Result: 9 is composite with confidence 0.17197\n",
            "Result: 4 is composite with confidence 0.12543\n",
            "Result: 4 is composite with confidence 0.17978\n",
            "Result: 5 is probably prime with confidence 0.93750\n",
            "Result: 2 is probably prime with confidence 0.91078\n",
            "Result: 2 is probably prime with confidence 0.98364\n",
            "Result: 3 is probably prime with confidence 0.95346\n",
            "Confidences: [0.19370406499794068, 0.10457141514626572, 0.10136446989341143, 0.9375, 0.15155462955044832, 0.18966053530734042, 0.961936971883136, 0.9205305515087366, 0.1899200356002296, 0.9805622067527087, 0.10142975252171926, 0.9375, 0.15966880165028927, 0.979902965262435, 0.17196735215673337, 0.12542971525373858, 0.17977688588354632, 0.9375, 0.9107836171083119, 0.983636214103568, 0.9534589460495574]\n"
          ]
        }
      ],
      "source": [
        "# This is the part where we use miler_rabin_with_confidence function to determine the how much it is confident say that is prime numbers.\n",
        "# This part is given, students do not need to implement this part.\n",
        "'''NOTE: NOTHING TO DO HERE (READ and UNDERSTAND)'''\n",
        "\n",
        "def miller_rabin_with_confidence(n, k=5):\n",
        "    n = int(n)\n",
        "    if n <= 1:\n",
        "        return False, 0  # Randomized confidence for trivial cases\n",
        "    if n <= 3:\n",
        "        return True, random.uniform(0.9, 1.0)    #\n",
        "    if n % 2 == 0:\n",
        "        return False, random.uniform(0.1, 0.2)  # Randomized confidence for even numbers\n",
        "\n",
        "    # Write n-1 as 2^r * d\n",
        "    r, d = 0, n - 1\n",
        "    while d % 2 == 0:\n",
        "        r += 1\n",
        "        d //= 2\n",
        "\n",
        "    # Perform k iterations\n",
        "    for _ in range(k):\n",
        "        a = random.randint(2, n - 2)\n",
        "        x = pow(a, d, n)\n",
        "        if x == 1 or x == n - 1:\n",
        "            continue\n",
        "        for _ in range(r - 1):\n",
        "            x = pow(x, 2, n)\n",
        "            if x == n - 1:\n",
        "                break\n",
        "        else:\n",
        "            # Composite detected\n",
        "            confidence1 = random.uniform(0.1, 0.2)  # Randomized confidence for composites\n",
        "            return False, confidence1\n",
        "\n",
        "    # If no evidence of compositeness was found, n is probably prime\n",
        "    confidence2 = 1 - 4**-k\n",
        "    return True, confidence2\n",
        "\n",
        "\n",
        "confidences = []\n",
        "\n",
        "for number in random_number:\n",
        "    k_iterations = 2\n",
        "\n",
        "    # Apply Miller-Rabin test for primality\n",
        "    is_probably_prime, confidence = miller_rabin_with_confidence(number, k_iterations)\n",
        "    confidences.append(confidence)\n",
        "\n",
        "    # Output result\n",
        "    print(f\"Result: {number} is {'probably prime' if is_probably_prime else 'composite'} with confidence {confidence:.5f}\")\n",
        "\n",
        "print(\"Confidences:\", confidences)"
      ]
    },
    {
      "cell_type": "markdown",
      "source": [],
      "metadata": {
        "id": "N6VRoXRuWQYY"
      }
    },
    {
      "cell_type": "markdown",
      "source": [
        "### 1.b) Implement measurment model function"
      ],
      "metadata": {
        "id": "BgAgiWs3b5u4"
      }
    },
    {
      "cell_type": "code",
      "execution_count": null,
      "metadata": {
        "id": "qVjSKf5UulO1",
        "colab": {
          "base_uri": "https://localhost:8080/",
          "height": 55
        },
        "outputId": "1b54680c-cd95-493d-b138-d88cc294c77a"
      },
      "outputs": [
        {
          "output_type": "execute_result",
          "data": {
            "text/plain": [
              "'TODO: DO FOLLOWING STEPS'"
            ],
            "application/vnd.google.colaboratory.intrinsic+json": {
              "type": "string"
            }
          },
          "metadata": {},
          "execution_count": 6
        }
      ],
      "source": [
        "possible_observations = ['blue', 'green', 'nothing']  # Observed states (z_k)\n",
        "\n",
        "'''TODO: Implement the measurement model function'''\n",
        "'''The confidence value that came from previous cell with be used here to determine what measurment model should be used'''\n",
        "\n",
        "def measurement_model(z_k, x_k, confidence):\n",
        "    '''Measurement probability of P(z_k | x_k) returned in the form of a state vector'''\n",
        "\n",
        "    # Dynamically generate measurement probabilities based on confidence\n",
        "    if confidence > 0.9:  # High confidence\n",
        "        # Fill the probability arrays for blue_meas and green_meas\n",
        "        # USE THIS PROBABILITY FOR HIGH CONFIDENCE\n",
        "        #              | blue green nothing\n",
        "        '''blue_meas = [0.90, 0.05, 0.05]\n",
        "           green_meas = [0.05, 0.9, 0.05]'''\n",
        "        pass\n",
        "    elif confidence < 0.5:  # Low confidence\n",
        "        # Fill the probability arrays for blue_meas and green_meas\n",
        "        # USE THIS PROBABILITY FOR LOW CONFIDENCE\n",
        "        #              | blue green nothing\n",
        "        '''blue_meas = [0.5, 0.4, 0.1]\n",
        "           green_meas = [0.4, 0.5, 0.1] '''\n",
        "        pass\n",
        "\n",
        "    # HINT: Measurement probabilities matrix\n",
        "\n",
        "    # HINT: Return the appropriate measurement probability\n",
        "\n",
        "'''TODO: DO FOLLOWING STEPS'''\n",
        "# Iterate through the confidences list and compute probabilities for each observation (z_k)\n",
        "# Implement the loop and necessary variables (confidences, addresses) yourself"
      ]
    },
    {
      "cell_type": "markdown",
      "metadata": {
        "id": "ty-QRjQ1ulO2"
      },
      "source": [
        "## Bayesian Model"
      ]
    },
    {
      "cell_type": "markdown",
      "source": [
        "### 1.c) Implement state_prediction and bayes_step based on the description"
      ],
      "metadata": {
        "id": "1W0n-AxBb_wG"
      }
    },
    {
      "cell_type": "code",
      "execution_count": null,
      "metadata": {
        "id": "HsbHRmTNulO2"
      },
      "outputs": [],
      "source": [
        "'''TODO: Implement state_predictions function'''\n",
        "def state_predictions(x_k, u_k):\n",
        "    '''return probability of P(x_k_1 | x_k, u_k) in form of a vector'''"
      ]
    },
    {
      "cell_type": "code",
      "execution_count": null,
      "metadata": {
        "id": "oM4gruuDulO2"
      },
      "outputs": [],
      "source": [
        "'''TODO: Implement bayes_step function'''\n",
        "def bayes_step(x_k, u_k, z_k_1):\n",
        "    '''return probability of P(x_k+1 | x_k, u_k, z_k_1) in form of a vector'''\n"
      ]
    },
    {
      "cell_type": "markdown",
      "metadata": {
        "id": "K5QjrxjRulO2"
      },
      "source": [
        "## Demonstration\n"
      ]
    },
    {
      "cell_type": "markdown",
      "source": [
        "### 1.d) Make belief and controls yourself.\n"
      ],
      "metadata": {
        "id": "qNBGwYMecIS6"
      }
    },
    {
      "cell_type": "code",
      "execution_count": null,
      "metadata": {
        "id": "RHF6gTIMulO2",
        "colab": {
          "base_uri": "https://localhost:8080/"
        },
        "outputId": "e34c672a-fdb6-4aaa-8d5a-5253fe4ab4e8"
      },
      "outputs": [
        {
          "output_type": "stream",
          "name": "stdout",
          "text": [
            "Measurements: [0, 0, 0, 0, 0, 0, 1, 1, 0, 1, 0, 1, 0, 1, 0, 0, 0, -1, 1, 1, 1]\n"
          ]
        }
      ],
      "source": [
        "'''TODO: Implement belief and controls urself :)'''\n",
        "'''HINT: robot will stop **after** the last station'''\n",
        "\n",
        "'''Randomized Noise Model'''\n",
        "'''NOTE: Following code is for generating measurments with nose. This is given as this is not the main part of the project.'''\n",
        "def generate_measurements(colors1):\n",
        "    \"\"\"Generate measurements based on colors1 with slight variations, iterating over colors1 twice.\"\"\"\n",
        "    measurements = []\n",
        "\n",
        "    for _ in range(1): # The track is straight line, therefore, we only iterate one time as measurments.\n",
        "        for color in colors:\n",
        "            if color == GREEN:\n",
        "                measurements.append(random.choices([GREEN, NOTHING, BLUE], weights=[90, 5, 5])[0])\n",
        "            elif color == BLUE:\n",
        "                measurements.append(random.choices([BLUE, NOTHING, GREEN], weights=[90, 5, 5])[0])\n",
        "\n",
        "    return measurements\n",
        "measurements = generate_measurements(colors)\n",
        "print(f\"Measurements: {measurements}\")\n",
        "\n"
      ]
    },
    {
      "cell_type": "markdown",
      "source": [
        "### 1.e) Implement the code that iterates through the list of control inputs and measurements, updating a list of beliefs using a bayesian update step."
      ],
      "metadata": {
        "id": "WUzH_kMNcU9o"
      }
    },
    {
      "cell_type": "code",
      "execution_count": null,
      "metadata": {
        "id": "RMK78I26ulO3",
        "colab": {
          "base_uri": "https://localhost:8080/",
          "height": 55
        },
        "outputId": "65284b17-04d0-4e39-de11-f3bfcdf3e4ea"
      },
      "outputs": [
        {
          "output_type": "execute_result",
          "data": {
            "text/plain": [
              "'TODO: Implement the code that iterates through the list of control inputs and measurements, updating a list of beliefs using a Bayesian update step.'"
            ],
            "application/vnd.google.colaboratory.intrinsic+json": {
              "type": "string"
            }
          },
          "metadata": {},
          "execution_count": 10
        }
      ],
      "source": [
        "'''TODO: Implement the code that iterates through the list of control inputs and measurements, updating a list of beliefs using a Bayesian update step.'''"
      ]
    },
    {
      "cell_type": "markdown",
      "metadata": {
        "id": "JQiZ0E5gulO3"
      },
      "source": [
        "## Visualization of Belief Changes Over Time"
      ]
    },
    {
      "cell_type": "markdown",
      "source": [
        "### 1.f) Plot the beliefs over time using a bar chart."
      ],
      "metadata": {
        "id": "E1oSDHLcco4H"
      }
    },
    {
      "cell_type": "code",
      "execution_count": null,
      "metadata": {
        "id": "BtNQwh2JulO3",
        "colab": {
          "base_uri": "https://localhost:8080/",
          "height": 55
        },
        "outputId": "5a085502-088b-4368-cc67-05b95350c8ff"
      },
      "outputs": [
        {
          "output_type": "execute_result",
          "data": {
            "text/plain": [
              "'TODO: Plot the beliefs over time using a bar chart. The x-axis should be the addresses and the y-axis should be the probabilities. The bars should be colored according to the colors list. The plot should be animated, showing the beliefs at each time step.'"
            ],
            "application/vnd.google.colaboratory.intrinsic+json": {
              "type": "string"
            }
          },
          "metadata": {},
          "execution_count": 11
        }
      ],
      "source": [
        "'''TODO: Plot the beliefs over time using a bar chart. The x-axis should be the addresses and the y-axis should be the probabilities. The bars should be colored according to the colors list. The plot should be animated, showing the beliefs at each time step.'''"
      ]
    },
    {
      "cell_type": "markdown",
      "source": [
        "# Question 2: Simulate the robot stopping after passing the final station which is a prime number."
      ],
      "metadata": {
        "id": "7nR4pWFWw7k5"
      }
    },
    {
      "cell_type": "markdown",
      "source": [
        "---\n",
        "\n",
        "## Problem Setup\n",
        "\n",
        "The following parameters define the system and initial conditions for the robot’s journey:  \n",
        "\n",
        "- **Mass of the car**: \\( m = 2000 \\, $\\text{kg}$ \\)  \n",
        "- **Sampling period**: \\( T = 0.1 \\, $\\text{s}$ \\) (time interval for the car's computer to process measurements and actions)  \n",
        "- **Measurement-to-action function**: \\( $\\text{fcn}(\\ldots)$ \\), a function mapping measurements to the car’s actions  \n",
        "- **Initial position**: \\( d(0) = 0 \\, $\\text{m}$ \\)  \n",
        "- **Initial velocity**: \\( \\dot{d}(0) = 130 \\, $\\text{km/h}$ \\)  \n",
        "- **Last station location**: \\( 150 \\, $\\text{m}$ \\) from the initial position  \n",
        "- **Final halt location**: \\( 200 \\, $\\text{m}$ \\) from the initial position  \n",
        "\n",
        "---"
      ],
      "metadata": {
        "id": "AR7HgA0sw-Na"
      }
    },
    {
      "cell_type": "markdown",
      "source": [
        "## 2.a) Find A, B, C, and D based on the state-space equation\n",
        "\n",
        "Let the **state vector** $\\mathbf{x}$ be defined as:\n",
        "\n",
        "$$\n",
        "\\mathbf{x} = \\begin{bmatrix}\n",
        "d \\\\\n",
        "\\dot{d} \\\\\n",
        "D\n",
        "\\end{bmatrix}\n",
        "$$\n",
        "\n",
        "where:\n",
        "- $\\mathbf{d}$: Distance between the robot and the last station of prime number (changes over time).\n",
        "- $\\dot{d}$: Rate of change of $d$ (relative velocity of the robot).\n",
        "- $D$: A constant representing the initial reference distance to the last station of prime number (unchanging).\n",
        "\n",
        "The **control input** $\\mathbf{u}$ represents the robot's acceleration (positive for speeding up, negative for braking). (~= fcn(y) in our code)\n",
        "\n",
        "The **output vector** $\\mathbf{y}$ is defined as:\n",
        "\n",
        "$$\n",
        "\\mathbf{y} = \\begin{bmatrix}\n",
        "y_1 \\\\\n",
        "y_2\n",
        "\\end{bmatrix}\n",
        "= \\begin{bmatrix}\n",
        "D - d \\\\\n",
        "\\dot{d}\n",
        "\\end{bmatrix}\n",
        "$$\n",
        "\n",
        "where:\n",
        "- $y_1$: The remaining distance to the last station of prime number.\n",
        "- $y_2$: The relative velocity of the robot.\n",
        "\n",
        "Using the state-space model of the system:\n",
        "\n",
        "$$\n",
        "\\dot{\\mathbf{x}} = \\mathbf{A} \\mathbf{x} + \\mathbf{B} \\mathbf{u}\n",
        "$$\n",
        "\n",
        "$$\n",
        "\\mathbf{y} = \\mathbf{C} \\mathbf{x} + \\mathbf{D} \\mathbf{u}\n",
        "$$\n"
      ],
      "metadata": {
        "id": "2Ac2o8fZ-T_a"
      }
    },
    {
      "cell_type": "code",
      "source": [
        "'''TODO: Find A, B, C, and D based on the state-space equation'''\n",
        "'''You can do this by hand or use sympy as long as you get correct matrices at the end'''\n",
        "B = sp.Matrix([0, 1, 0]) # this is given to students as a hint to start\n"
      ],
      "metadata": {
        "id": "kJYSbAR2-U17",
        "colab": {
          "base_uri": "https://localhost:8080/",
          "height": 439
        },
        "outputId": "37e2d5ae-3c43-476c-d456-05d653d9db1a"
      },
      "execution_count": null,
      "outputs": [
        {
          "output_type": "error",
          "ename": "AttributeError",
          "evalue": "Module 'scipy' has no attribute 'Matrix'",
          "traceback": [
            "\u001b[0;31m---------------------------------------------------------------------------\u001b[0m",
            "\u001b[0;31mKeyError\u001b[0m                                  Traceback (most recent call last)",
            "\u001b[0;32m/usr/local/lib/python3.10/dist-packages/scipy/__init__.py\u001b[0m in \u001b[0;36m__getattr__\u001b[0;34m(name)\u001b[0m\n\u001b[1;32m    136\u001b[0m         \u001b[0;32mtry\u001b[0m\u001b[0;34m:\u001b[0m\u001b[0;34m\u001b[0m\u001b[0;34m\u001b[0m\u001b[0m\n\u001b[0;32m--> 137\u001b[0;31m             \u001b[0;32mreturn\u001b[0m \u001b[0mglobals\u001b[0m\u001b[0;34m(\u001b[0m\u001b[0;34m)\u001b[0m\u001b[0;34m[\u001b[0m\u001b[0mname\u001b[0m\u001b[0;34m]\u001b[0m\u001b[0;34m\u001b[0m\u001b[0;34m\u001b[0m\u001b[0m\n\u001b[0m\u001b[1;32m    138\u001b[0m         \u001b[0;32mexcept\u001b[0m \u001b[0mKeyError\u001b[0m\u001b[0;34m:\u001b[0m\u001b[0;34m\u001b[0m\u001b[0;34m\u001b[0m\u001b[0m\n",
            "\u001b[0;31mKeyError\u001b[0m: 'Matrix'",
            "\nDuring handling of the above exception, another exception occurred:\n",
            "\u001b[0;31mAttributeError\u001b[0m                            Traceback (most recent call last)",
            "\u001b[0;32m<ipython-input-12-98eec433b0ce>\u001b[0m in \u001b[0;36m<cell line: 3>\u001b[0;34m()\u001b[0m\n\u001b[1;32m      1\u001b[0m \u001b[0;34m'''TODO: Find A, B, C, and D based on the state-space equation'''\u001b[0m\u001b[0;34m\u001b[0m\u001b[0;34m\u001b[0m\u001b[0m\n\u001b[1;32m      2\u001b[0m \u001b[0;34m'''You can do this by hand or use sympy as long as you get correct matrices at the end'''\u001b[0m\u001b[0;34m\u001b[0m\u001b[0;34m\u001b[0m\u001b[0m\n\u001b[0;32m----> 3\u001b[0;31m \u001b[0mB\u001b[0m \u001b[0;34m=\u001b[0m \u001b[0msp\u001b[0m\u001b[0;34m.\u001b[0m\u001b[0mMatrix\u001b[0m\u001b[0;34m(\u001b[0m\u001b[0;34m[\u001b[0m\u001b[0;36m0\u001b[0m\u001b[0;34m,\u001b[0m \u001b[0;36m1\u001b[0m\u001b[0;34m,\u001b[0m \u001b[0;36m0\u001b[0m\u001b[0;34m]\u001b[0m\u001b[0;34m)\u001b[0m \u001b[0;31m# this is given to students as a hint to start\u001b[0m\u001b[0;34m\u001b[0m\u001b[0;34m\u001b[0m\u001b[0m\n\u001b[0m",
            "\u001b[0;32m/usr/local/lib/python3.10/dist-packages/scipy/__init__.py\u001b[0m in \u001b[0;36m__getattr__\u001b[0;34m(name)\u001b[0m\n\u001b[1;32m    137\u001b[0m             \u001b[0;32mreturn\u001b[0m \u001b[0mglobals\u001b[0m\u001b[0;34m(\u001b[0m\u001b[0;34m)\u001b[0m\u001b[0;34m[\u001b[0m\u001b[0mname\u001b[0m\u001b[0;34m]\u001b[0m\u001b[0;34m\u001b[0m\u001b[0;34m\u001b[0m\u001b[0m\n\u001b[1;32m    138\u001b[0m         \u001b[0;32mexcept\u001b[0m \u001b[0mKeyError\u001b[0m\u001b[0;34m:\u001b[0m\u001b[0;34m\u001b[0m\u001b[0;34m\u001b[0m\u001b[0m\n\u001b[0;32m--> 139\u001b[0;31m             raise AttributeError(\n\u001b[0m\u001b[1;32m    140\u001b[0m                 \u001b[0;34mf\"Module 'scipy' has no attribute '{name}'\"\u001b[0m\u001b[0;34m\u001b[0m\u001b[0;34m\u001b[0m\u001b[0m\n\u001b[1;32m    141\u001b[0m             )\n",
            "\u001b[0;31mAttributeError\u001b[0m: Module 'scipy' has no attribute 'Matrix'"
          ]
        }
      ]
    },
    {
      "cell_type": "markdown",
      "source": [
        "### 2.b): Compute A_d and B_d using **cont2discrete**  within **scipy**. Make sure to use the **zero-order hold** ~ **zoh** for the discretization method."
      ],
      "metadata": {
        "id": "DsbHfCshxHvk"
      }
    },
    {
      "cell_type": "code",
      "source": [
        "'''Compute A_d and B_d using cont2discrete within scipy. Make sure to use the zero-order hold zoh for the discretization method.'''"
      ],
      "metadata": {
        "id": "SCiDO_x7xLQl"
      },
      "execution_count": null,
      "outputs": []
    },
    {
      "cell_type": "markdown",
      "source": [
        "### 2.c) Implement the simulate_robot_stopping function to simulate the robot"
      ],
      "metadata": {
        "id": "h-ew940xxR1q"
      }
    },
    {
      "cell_type": "code",
      "source": [
        "'''HINT: The simulate_robot_stopping function simulates the robot's movement over time by repeatedly updating its state based on the system dynamics, applying a control signal determined by fnc, and storing the robot's position at each step.\n",
        "It then provides the time, robot position, and prime number position, which can be used to visualize or analyze the simulation results.'''\n",
        "\n",
        "def simulate_robot_stopping(x_0, u_0, A, B, C, D, simulation_time, dt, fnc):\n",
        "  pass"
      ],
      "metadata": {
        "id": "s965Y_VmxTvk"
      },
      "execution_count": null,
      "outputs": []
    },
    {
      "cell_type": "markdown",
      "source": [
        "### 2.d) implement function fnc as a control to make the car slow and eventually stop at the end."
      ],
      "metadata": {
        "id": "z-BbdQEMxhOG"
      }
    },
    {
      "cell_type": "code",
      "source": [
        "'''HINT: fcn(y) is a control to make the car slow and eventually stop at the end. (constant = 0.0015 make your life easier)'''\n",
        "def fnc(y):\n",
        "  pass"
      ],
      "metadata": {
        "id": "nMI55k2axjTc"
      },
      "execution_count": null,
      "outputs": []
    },
    {
      "cell_type": "markdown",
      "source": [
        "#### 2.d.1) Define all the essential varaibles that are given in the question and return function you made in 2.b"
      ],
      "metadata": {
        "id": "rQOnHNEwx2yW"
      }
    },
    {
      "cell_type": "code",
      "source": [
        "'''TODO: Define all the essential variables that are given in the question'''\n",
        "pass\n",
        "'''TODO: Return function you made in 2.b'''\n",
        "pass"
      ],
      "metadata": {
        "id": "ENxM_S1Hx4R3"
      },
      "execution_count": null,
      "outputs": []
    },
    {
      "cell_type": "markdown",
      "source": [
        "### 2.e) Plot Simulation to show your robot is stopping after passing the last station which is prime number at desired spot."
      ],
      "metadata": {
        "id": "qhTmi74eyH0P"
      }
    },
    {
      "cell_type": "code",
      "source": [
        "'''TODO: Plot Simulation to show your robot is stopping at 200m which is after the last sation which is prime number.'''\n",
        "'''Show robot slow down and stop at 200m!'''"
      ],
      "metadata": {
        "id": "6nXxAfQ0yJYe"
      },
      "execution_count": null,
      "outputs": []
    }
  ],
  "metadata": {
    "kernelspec": {
      "display_name": "Python 3",
      "language": "python",
      "name": "python3"
    },
    "language_info": {
      "codemirror_mode": {
        "name": "ipython",
        "version": 3
      },
      "file_extension": ".py",
      "mimetype": "text/x-python",
      "name": "python",
      "nbconvert_exporter": "python",
      "pygments_lexer": "ipython3",
      "version": "3.10.12"
    },
    "colab": {
      "provenance": [],
      "include_colab_link": true
    }
  },
  "nbformat": 4,
  "nbformat_minor": 0
}